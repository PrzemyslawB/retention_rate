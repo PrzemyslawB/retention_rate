{
 "cells": [
  {
   "cell_type": "code",
   "execution_count": 1,
   "metadata": {},
   "outputs": [],
   "source": [
    "import pandas as pd\n",
    "import numpy as np\n",
    "import matplotlib.pyplot as plt \n",
    "import calendar\n",
    "import reverse_geocoder as rg\n",
    "import collections\n",
    "import seaborn as sns\n",
    "\n",
    "plt.rcParams.update({'font.size': 10})\n",
    "pd.set_option('display.max_columns', None)\n",
    "pd.set_option('display.max_rows', 100)"
   ]
  },
  {
   "cell_type": "code",
   "execution_count": 2,
   "metadata": {},
   "outputs": [],
   "source": [
    "data=pd.read_csv('feature.csv',parse_dates=['timestamp'])"
   ]
  },
  {
   "cell_type": "code",
   "execution_count": 3,
   "metadata": {},
   "outputs": [],
   "source": [
    "# Assumption is that duplicated entries for the same time (hour) can be dropped\n",
    "data.drop_duplicates(inplace=True)"
   ]
  },
  {
   "cell_type": "code",
   "execution_count": 4,
   "metadata": {},
   "outputs": [
    {
     "name": "stdout",
     "output_type": "stream",
     "text": [
      "<class 'pandas.core.frame.DataFrame'>\n",
      "Int64Index: 670208 entries, 0 to 676700\n",
      "Data columns (total 5 columns):\n",
      "timestamp    670208 non-null datetime64[ns]\n",
      "user         670208 non-null object\n",
      "sport        670208 non-null object\n",
      "longitude    669958 non-null float64\n",
      "latitude     669958 non-null float64\n",
      "dtypes: datetime64[ns](1), float64(2), object(2)\n",
      "memory usage: 30.7+ MB\n"
     ]
    }
   ],
   "source": [
    "data.info()"
   ]
  },
  {
   "cell_type": "code",
   "execution_count": 5,
   "metadata": {},
   "outputs": [
    {
     "data": {
      "text/plain": [
       "60201"
      ]
     },
     "execution_count": 5,
     "metadata": {},
     "output_type": "execute_result"
    }
   ],
   "source": [
    "len(data.user.unique())"
   ]
  },
  {
   "cell_type": "code",
   "execution_count": 6,
   "metadata": {
    "scrolled": true
   },
   "outputs": [
    {
     "data": {
      "text/html": [
       "<div>\n",
       "<style scoped>\n",
       "    .dataframe tbody tr th:only-of-type {\n",
       "        vertical-align: middle;\n",
       "    }\n",
       "\n",
       "    .dataframe tbody tr th {\n",
       "        vertical-align: top;\n",
       "    }\n",
       "\n",
       "    .dataframe thead th {\n",
       "        text-align: right;\n",
       "    }\n",
       "</style>\n",
       "<table border=\"1\" class=\"dataframe\">\n",
       "  <thead>\n",
       "    <tr style=\"text-align: right;\">\n",
       "      <th></th>\n",
       "      <th>timestamp</th>\n",
       "      <th>user</th>\n",
       "      <th>sport</th>\n",
       "      <th>longitude</th>\n",
       "      <th>latitude</th>\n",
       "    </tr>\n",
       "  </thead>\n",
       "  <tbody>\n",
       "    <tr>\n",
       "      <th>0</th>\n",
       "      <td>2016-05-29 06:00:00</td>\n",
       "      <td>51663fe728afd0c03701845329190f7fe93c3a8ab2ff56...</td>\n",
       "      <td>hike</td>\n",
       "      <td>16.1</td>\n",
       "      <td>47.7</td>\n",
       "    </tr>\n",
       "    <tr>\n",
       "      <th>1</th>\n",
       "      <td>2016-08-15 19:00:00</td>\n",
       "      <td>08f0a9cb02168dce9544c7ce237eb2a291901a048bad24...</td>\n",
       "      <td>hike</td>\n",
       "      <td>12.0</td>\n",
       "      <td>47.7</td>\n",
       "    </tr>\n",
       "    <tr>\n",
       "      <th>2</th>\n",
       "      <td>2016-05-14 19:00:00</td>\n",
       "      <td>0762522db4b59efa5a11a535c88477d6c7a63972febdda...</td>\n",
       "      <td>hike</td>\n",
       "      <td>9.4</td>\n",
       "      <td>51.8</td>\n",
       "    </tr>\n",
       "    <tr>\n",
       "      <th>3</th>\n",
       "      <td>2017-06-12 20:00:00</td>\n",
       "      <td>70cc307f4148283217dadfcbff54eb9e7d7a944a0b57f6...</td>\n",
       "      <td>touringbicycle</td>\n",
       "      <td>7.8</td>\n",
       "      <td>48.0</td>\n",
       "    </tr>\n",
       "    <tr>\n",
       "      <th>4</th>\n",
       "      <td>2014-05-25 09:00:00</td>\n",
       "      <td>c1fc1e63e5e3875538ca23351954ed39405ec27b0c15bb...</td>\n",
       "      <td>mtb</td>\n",
       "      <td>6.8</td>\n",
       "      <td>50.6</td>\n",
       "    </tr>\n",
       "  </tbody>\n",
       "</table>\n",
       "</div>"
      ],
      "text/plain": [
       "            timestamp                                               user  \\\n",
       "0 2016-05-29 06:00:00  51663fe728afd0c03701845329190f7fe93c3a8ab2ff56...   \n",
       "1 2016-08-15 19:00:00  08f0a9cb02168dce9544c7ce237eb2a291901a048bad24...   \n",
       "2 2016-05-14 19:00:00  0762522db4b59efa5a11a535c88477d6c7a63972febdda...   \n",
       "3 2017-06-12 20:00:00  70cc307f4148283217dadfcbff54eb9e7d7a944a0b57f6...   \n",
       "4 2014-05-25 09:00:00  c1fc1e63e5e3875538ca23351954ed39405ec27b0c15bb...   \n",
       "\n",
       "            sport  longitude  latitude  \n",
       "0            hike       16.1      47.7  \n",
       "1            hike       12.0      47.7  \n",
       "2            hike        9.4      51.8  \n",
       "3  touringbicycle        7.8      48.0  \n",
       "4             mtb        6.8      50.6  "
      ]
     },
     "execution_count": 6,
     "metadata": {},
     "output_type": "execute_result"
    }
   ],
   "source": [
    "data.head()"
   ]
  },
  {
   "cell_type": "markdown",
   "metadata": {},
   "source": [
    "### Step one: Add country based on location\n",
    "\n",
    " * Create auxiliary data frame to use for country lookup\n",
    " * Drop duplicated cooridnates to narrow the required search\n",
    " * Use reverse_geocoder as it doesn't limit the query - it is a library that uses KD trees to find nearest city over 1000 inhabitants. More can be found [here](https://github.com/thampiman/reverse-geocoder)\n",
    " * Geocoder retrieves the ISO2 codes that need to be transformed into country names\n",
    " * Use unique coordinates to map the location for full dataset"
   ]
  },
  {
   "cell_type": "code",
   "execution_count": 7,
   "metadata": {
    "scrolled": true
   },
   "outputs": [
    {
     "data": {
      "text/plain": [
       "(21342, 2)"
      ]
     },
     "execution_count": 7,
     "metadata": {},
     "output_type": "execute_result"
    }
   ],
   "source": [
    "coordinates=data[data.longitude.notnull()|data.latitude.notnull()]\n",
    "coordinates=coordinates[['longitude','latitude']]\n",
    "coordinates.drop_duplicates(inplace=True)\n",
    "coordinates.shape"
   ]
  },
  {
   "cell_type": "code",
   "execution_count": 8,
   "metadata": {
    "scrolled": true
   },
   "outputs": [
    {
     "name": "stdout",
     "output_type": "stream",
     "text": [
      "Loading formatted geocoded file...\n"
     ]
    }
   ],
   "source": [
    "coordinates['ISO2']=coordinates.apply(lambda row: rg.search((row['latitude'],row['longitude']))[0]['cc'],axis=1)"
   ]
  },
  {
   "cell_type": "code",
   "execution_count": 10,
   "metadata": {
    "scrolled": true
   },
   "outputs": [
    {
     "name": "stdout",
     "output_type": "stream",
     "text": [
      "<class 'pandas.core.frame.DataFrame'>\n",
      "Int64Index: 21342 entries, 0 to 676476\n",
      "Data columns (total 3 columns):\n",
      "latitude     21342 non-null float64\n",
      "longitude    21342 non-null float64\n",
      "ISO2         21342 non-null object\n",
      "dtypes: float64(2), object(1)\n",
      "memory usage: 666.9+ KB\n"
     ]
    }
   ],
   "source": [
    "coordinates.info()"
   ]
  },
  {
   "cell_type": "code",
   "execution_count": 12,
   "metadata": {},
   "outputs": [],
   "source": [
    "coordinates['coordinates']=coordinates.longitude.astype(str)+coordinates.latitude.astype(str)"
   ]
  },
  {
   "cell_type": "code",
   "execution_count": 13,
   "metadata": {},
   "outputs": [],
   "source": [
    "iso=pd.read_csv('iso.csv',keep_default_na=False)\n",
    "keys=iso.ISO2\n",
    "values=iso.Country\n",
    "dictionary_country = dict(zip(keys, values))\n",
    "coordinates['country']=coordinates.ISO2.map(lambda x: dictionary_country.get(x,x))"
   ]
  },
  {
   "cell_type": "code",
   "execution_count": 14,
   "metadata": {},
   "outputs": [],
   "source": [
    "keys=coordinates.coordinates\n",
    "values=coordinates.country"
   ]
  },
  {
   "cell_type": "code",
   "execution_count": 15,
   "metadata": {},
   "outputs": [],
   "source": [
    "dictionary_country = dict(zip(keys, values))"
   ]
  },
  {
   "cell_type": "code",
   "execution_count": 16,
   "metadata": {},
   "outputs": [],
   "source": [
    "data['coordinates']=np.where(data.longitude.notnull()|data.latitude.notnull(),data.longitude.astype(str)+data.latitude.astype(str),np.nan)"
   ]
  },
  {
   "cell_type": "code",
   "execution_count": 17,
   "metadata": {},
   "outputs": [],
   "source": [
    "data['country']=data.coordinates.map(lambda x: dictionary_country.get(x,x))"
   ]
  },
  {
   "cell_type": "code",
   "execution_count": 19,
   "metadata": {
    "scrolled": false
   },
   "outputs": [
    {
     "name": "stdout",
     "output_type": "stream",
     "text": [
      "<class 'pandas.core.frame.DataFrame'>\n",
      "Int64Index: 670208 entries, 0 to 676700\n",
      "Data columns (total 7 columns):\n",
      "timestamp      670208 non-null datetime64[ns]\n",
      "user           670208 non-null object\n",
      "sport          670208 non-null object\n",
      "longitude      669958 non-null float64\n",
      "latitude       669958 non-null float64\n",
      "coordinates    669958 non-null object\n",
      "country        669958 non-null object\n",
      "dtypes: datetime64[ns](1), float64(2), object(4)\n",
      "memory usage: 40.9+ MB\n"
     ]
    }
   ],
   "source": [
    "data.info()"
   ]
  },
  {
   "cell_type": "markdown",
   "metadata": {},
   "source": [
    "### Step two: Check and fill or drop missing values\n",
    "\n",
    "* Check how many event were logged without location\n",
    "* Check how many users that reported tese evets has already reported any event with locations\n",
    "* If yes take their most common location\n",
    "* If not, drop them from the analysis"
   ]
  },
  {
   "cell_type": "code",
   "execution_count": 20,
   "metadata": {},
   "outputs": [
    {
     "name": "stdout",
     "output_type": "stream",
     "text": [
      "250 events are missing location for 74 users\n"
     ]
    }
   ],
   "source": [
    "print (str(len(data.user[data.country.isnull()]))+' events are missing location for '+str(len(set(data.user[data.country.isnull()])))+' users')"
   ]
  },
  {
   "cell_type": "code",
   "execution_count": 21,
   "metadata": {},
   "outputs": [
    {
     "name": "stdout",
     "output_type": "stream",
     "text": [
      "There are 63 users that have reported location out of 74 with missing location\n"
     ]
    }
   ],
   "source": [
    "print('There are '+str(len(set(data.user[data.country.isnull()&data.user.isin(set(data.user[data.country.notnull()]))])))+\n",
    "      ' users that have reported location out of '+str(len(set(data.user[data.country.isnull()])))+' with missing location')"
   ]
  },
  {
   "cell_type": "code",
   "execution_count": 22,
   "metadata": {},
   "outputs": [],
   "source": [
    "to_drop=list(set(data.user[data.country.isnull()])-set(data.user[data.country.isnull()&data.user.isin(set(data.user[data.country.notnull()]))]))"
   ]
  },
  {
   "cell_type": "code",
   "execution_count": 23,
   "metadata": {},
   "outputs": [],
   "source": [
    "data=data[~data.user.isin(to_drop)]"
   ]
  },
  {
   "cell_type": "code",
   "execution_count": 24,
   "metadata": {},
   "outputs": [
    {
     "name": "stdout",
     "output_type": "stream",
     "text": [
      "<class 'pandas.core.frame.DataFrame'>\n",
      "Int64Index: 670180 entries, 0 to 676700\n",
      "Data columns (total 7 columns):\n",
      "timestamp      670180 non-null datetime64[ns]\n",
      "user           670180 non-null object\n",
      "sport          670180 non-null object\n",
      "longitude      669958 non-null float64\n",
      "latitude       669958 non-null float64\n",
      "coordinates    669958 non-null object\n",
      "country        669958 non-null object\n",
      "dtypes: datetime64[ns](1), float64(2), object(4)\n",
      "memory usage: 40.9+ MB\n"
     ]
    }
   ],
   "source": [
    "data.info()"
   ]
  },
  {
   "cell_type": "code",
   "execution_count": 25,
   "metadata": {},
   "outputs": [
    {
     "name": "stdout",
     "output_type": "stream",
     "text": [
      "<class 'pandas.core.frame.DataFrame'>\n",
      "RangeIndex: 60190 entries, 0 to 60189\n",
      "Data columns (total 2 columns):\n",
      "user       60190 non-null object\n",
      "country    60190 non-null object\n",
      "dtypes: object(2)\n",
      "memory usage: 940.5+ KB\n"
     ]
    }
   ],
   "source": [
    "user_countries=data[['user','country']]\n",
    "user_countries=user_countries.groupby(['user']).agg(lambda x:x.value_counts().index[0])\n",
    "user_countries.reset_index(inplace=True)\n",
    "user_countries.info()"
   ]
  },
  {
   "cell_type": "code",
   "execution_count": 26,
   "metadata": {},
   "outputs": [],
   "source": [
    "to_fill=list(set(data.user[data.country.isnull()&data.user.isin(set(data.user[data.country.notnull()]))]))"
   ]
  },
  {
   "cell_type": "code",
   "execution_count": 27,
   "metadata": {},
   "outputs": [],
   "source": [
    "to_fill_df=user_countries[user_countries.user.isin(to_fill)]\n",
    "keys=to_fill_df.user\n",
    "values=to_fill_df.country"
   ]
  },
  {
   "cell_type": "code",
   "execution_count": 28,
   "metadata": {},
   "outputs": [],
   "source": [
    "dictionary_country = dict(zip(keys, values))"
   ]
  },
  {
   "cell_type": "code",
   "execution_count": 29,
   "metadata": {},
   "outputs": [],
   "source": [
    "data.country[data.country.isnull()]=data.user.map(lambda x: dictionary_country.get(x,x))"
   ]
  },
  {
   "cell_type": "code",
   "execution_count": 30,
   "metadata": {},
   "outputs": [],
   "source": [
    "data.drop(['latitude','longitude','coordinates'],axis=1,inplace=True)"
   ]
  },
  {
   "cell_type": "code",
   "execution_count": 31,
   "metadata": {},
   "outputs": [
    {
     "name": "stdout",
     "output_type": "stream",
     "text": [
      "<class 'pandas.core.frame.DataFrame'>\n",
      "Int64Index: 670180 entries, 0 to 676700\n",
      "Data columns (total 4 columns):\n",
      "timestamp    670180 non-null datetime64[ns]\n",
      "user         670180 non-null object\n",
      "sport        670180 non-null object\n",
      "country      670180 non-null object\n",
      "dtypes: datetime64[ns](1), object(3)\n",
      "memory usage: 45.6+ MB\n"
     ]
    }
   ],
   "source": [
    "data.info()"
   ]
  },
  {
   "cell_type": "markdown",
   "metadata": {},
   "source": [
    "Data has now no missing values"
   ]
  },
  {
   "cell_type": "markdown",
   "metadata": {},
   "source": [
    "### Step three: Analyze the country dimension\n",
    "\n",
    "Understand where are most of the tours recorded and from where users come from."
   ]
  },
  {
   "cell_type": "code",
   "execution_count": 32,
   "metadata": {
    "scrolled": true
   },
   "outputs": [
    {
     "data": {
      "text/plain": [
       "Germany                                                 526643\n",
       "Austria                                                  37321\n",
       "Italy                                                    21968\n",
       "Switzerland                                              13615\n",
       "Spain                                                    11139\n",
       "France                                                    9306\n",
       "Netherlands                                               7565\n",
       "United States of America                                  7047\n",
       "United Kingdom of Great Britain and Northern Ireland      6558\n",
       "Portugal                                                  2655\n",
       "Name: country, dtype: int64"
      ]
     },
     "execution_count": 32,
     "metadata": {},
     "output_type": "execute_result"
    }
   ],
   "source": [
    "data.country.value_counts().head(10)"
   ]
  },
  {
   "cell_type": "code",
   "execution_count": 33,
   "metadata": {},
   "outputs": [
    {
     "data": {
      "text/plain": [
       "Germany                                                 0.785823\n",
       "Austria                                                 0.055688\n",
       "Italy                                                   0.032779\n",
       "Switzerland                                             0.020315\n",
       "Spain                                                   0.016621\n",
       "France                                                  0.013886\n",
       "Netherlands                                             0.011288\n",
       "United States of America                                0.010515\n",
       "United Kingdom of Great Britain and Northern Ireland    0.009785\n",
       "Portugal                                                0.003962\n",
       "Name: country, dtype: float64"
      ]
     },
     "execution_count": 33,
     "metadata": {},
     "output_type": "execute_result"
    }
   ],
   "source": [
    "data.country.value_counts(normalize=True).head(10)"
   ]
  },
  {
   "cell_type": "code",
   "execution_count": 34,
   "metadata": {},
   "outputs": [
    {
     "data": {
      "text/plain": [
       "160"
      ]
     },
     "execution_count": 34,
     "metadata": {},
     "output_type": "execute_result"
    }
   ],
   "source": [
    "len(data.country.value_counts(normalize=True))"
   ]
  },
  {
   "cell_type": "markdown",
   "metadata": {},
   "source": [
    "Germany is the key location for tours recorded as over 78% of all tours took place there. There is a lot of long tail countries as the total number is 160."
   ]
  },
  {
   "cell_type": "code",
   "execution_count": 35,
   "metadata": {},
   "outputs": [
    {
     "data": {
      "text/plain": [
       "Germany                                                 48718\n",
       "Austria                                                  2878\n",
       "Switzerland                                              1340\n",
       "Italy                                                    1175\n",
       "United States of America                                 1149\n",
       "United Kingdom of Great Britain and Northern Ireland      973\n",
       "Spain                                                     615\n",
       "France                                                    523\n",
       "Netherlands                                               421\n",
       "Portugal                                                  156\n",
       "Name: country, dtype: int64"
      ]
     },
     "execution_count": 35,
     "metadata": {},
     "output_type": "execute_result"
    }
   ],
   "source": [
    "user_countries.country.value_counts().head(10)"
   ]
  },
  {
   "cell_type": "code",
   "execution_count": 36,
   "metadata": {},
   "outputs": [
    {
     "data": {
      "text/plain": [
       "Germany                                                 0.809404\n",
       "Austria                                                 0.047815\n",
       "Switzerland                                             0.022263\n",
       "Italy                                                   0.019522\n",
       "United States of America                                0.019090\n",
       "United Kingdom of Great Britain and Northern Ireland    0.016165\n",
       "Spain                                                   0.010218\n",
       "France                                                  0.008689\n",
       "Netherlands                                             0.006995\n",
       "Portugal                                                0.002592\n",
       "Name: country, dtype: float64"
      ]
     },
     "execution_count": 36,
     "metadata": {},
     "output_type": "execute_result"
    }
   ],
   "source": [
    "user_countries.country.value_counts(normalize=True).head(10)"
   ]
  },
  {
   "cell_type": "markdown",
   "metadata": {},
   "source": [
    "Germany is also leading in category of users home country. They add up to 80% of the population. \n",
    "\n",
    "For the rest of analysis countries with less than 500 users will be aggregated as country: Other"
   ]
  },
  {
   "cell_type": "code",
   "execution_count": 37,
   "metadata": {},
   "outputs": [],
   "source": [
    "keep_countries=user_countries.country.value_counts()[user_countries.country.value_counts()>500].index"
   ]
  },
  {
   "cell_type": "code",
   "execution_count": 38,
   "metadata": {},
   "outputs": [],
   "source": [
    "data.country.replace(list(set(data.country.unique())-set(keep_countries)),'Other',inplace=True)"
   ]
  },
  {
   "cell_type": "markdown",
   "metadata": {},
   "source": [
    "### Step four: Analyse sport feature"
   ]
  },
  {
   "cell_type": "code",
   "execution_count": 39,
   "metadata": {},
   "outputs": [
    {
     "data": {
      "text/plain": [
       "array(['hike', 'touringbicycle', 'mtb', 'racebike', 'jogging', 'unicycle',\n",
       "       'nordicwalking', 'other', 'snowshoe', 'skialpin', 'sled',\n",
       "       'skitour', 'mtb_advanced', 'mountaineering', 'downhillbike',\n",
       "       'mtb_easy', 'nordic', 'skaten', 'citybike', 'Other', 'climbing',\n",
       "       'mountaineering_advanced', 'snowboard'], dtype=object)"
      ]
     },
     "execution_count": 39,
     "metadata": {},
     "output_type": "execute_result"
    }
   ],
   "source": [
    "data.sport.unique()"
   ]
  },
  {
   "cell_type": "markdown",
   "metadata": {},
   "source": [
    "Unifying 'other' sport name"
   ]
  },
  {
   "cell_type": "code",
   "execution_count": 40,
   "metadata": {
    "scrolled": true
   },
   "outputs": [],
   "source": [
    "data.sport.replace('Other','other',inplace=True)"
   ]
  },
  {
   "cell_type": "code",
   "execution_count": 41,
   "metadata": {},
   "outputs": [
    {
     "data": {
      "text/plain": [
       "hike                       0.350367\n",
       "touringbicycle             0.342891\n",
       "mtb                        0.154485\n",
       "racebike                   0.078380\n",
       "jogging                    0.040758\n",
       "nordicwalking              0.006255\n",
       "other                      0.005767\n",
       "mtb_easy                   0.005252\n",
       "mountaineering             0.003586\n",
       "mtb_advanced               0.001861\n",
       "unicycle                   0.001856\n",
       "nordic                     0.001777\n",
       "skitour                    0.001703\n",
       "skialpin                   0.001191\n",
       "skaten                     0.001165\n",
       "citybike                   0.000604\n",
       "snowshoe                   0.000507\n",
       "sled                       0.000495\n",
       "downhillbike               0.000489\n",
       "climbing                   0.000318\n",
       "snowboard                  0.000209\n",
       "mountaineering_advanced    0.000082\n",
       "Name: sport, dtype: float64"
      ]
     },
     "execution_count": 41,
     "metadata": {},
     "output_type": "execute_result"
    }
   ],
   "source": [
    "data.sport.value_counts(normalize=True)"
   ]
  },
  {
   "cell_type": "markdown",
   "metadata": {},
   "source": [
    "Overall almost 85% tours where hike, touringbicycle or mtb focused, however due to the fact that 78% tours took place in Germany, this one country influences the result significanly, it would be beneficial to exclude it and compare the results."
   ]
  },
  {
   "cell_type": "code",
   "execution_count": 42,
   "metadata": {},
   "outputs": [
    {
     "data": {
      "text/plain": [
       "hike                       0.453388\n",
       "touringbicycle             0.248466\n",
       "mtb                        0.124511\n",
       "racebike                   0.086960\n",
       "jogging                    0.035412\n",
       "mountaineering             0.011168\n",
       "other                      0.005657\n",
       "skitour                    0.005058\n",
       "skialpin                   0.004960\n",
       "nordicwalking              0.004577\n",
       "mtb_advanced               0.004166\n",
       "mtb_easy                   0.004103\n",
       "nordic                     0.002703\n",
       "unicycle                   0.002348\n",
       "skaten                     0.001170\n",
       "snowshoe                   0.001163\n",
       "citybike                   0.000982\n",
       "climbing                   0.000906\n",
       "downhillbike               0.000801\n",
       "snowboard                  0.000669\n",
       "sled                       0.000613\n",
       "mountaineering_advanced    0.000216\n",
       "Name: sport, dtype: float64"
      ]
     },
     "execution_count": 42,
     "metadata": {},
     "output_type": "execute_result"
    }
   ],
   "source": [
    "data[data.country!='Germany'].sport.value_counts(normalize=True)"
   ]
  },
  {
   "cell_type": "markdown",
   "metadata": {},
   "source": [
    "After excluding Germany hike tours were 10 percentage points higher and on the other hand touringbicycle tours dropped by 10 percentage points. This is represented in table below per country."
   ]
  },
  {
   "cell_type": "code",
   "execution_count": 43,
   "metadata": {},
   "outputs": [
    {
     "data": {
      "text/html": [
       "<div>\n",
       "<style scoped>\n",
       "    .dataframe tbody tr th:only-of-type {\n",
       "        vertical-align: middle;\n",
       "    }\n",
       "\n",
       "    .dataframe tbody tr th {\n",
       "        vertical-align: top;\n",
       "    }\n",
       "\n",
       "    .dataframe thead th {\n",
       "        text-align: right;\n",
       "    }\n",
       "</style>\n",
       "<table border=\"1\" class=\"dataframe\">\n",
       "  <thead>\n",
       "    <tr style=\"text-align: right;\">\n",
       "      <th>sport</th>\n",
       "      <th>citybike</th>\n",
       "      <th>climbing</th>\n",
       "      <th>downhillbike</th>\n",
       "      <th>hike</th>\n",
       "      <th>jogging</th>\n",
       "      <th>mountaineering</th>\n",
       "      <th>mountaineering_advanced</th>\n",
       "      <th>mtb</th>\n",
       "      <th>mtb_advanced</th>\n",
       "      <th>mtb_easy</th>\n",
       "      <th>nordic</th>\n",
       "      <th>nordicwalking</th>\n",
       "      <th>other</th>\n",
       "      <th>racebike</th>\n",
       "      <th>skaten</th>\n",
       "      <th>skialpin</th>\n",
       "      <th>skitour</th>\n",
       "      <th>sled</th>\n",
       "      <th>snowboard</th>\n",
       "      <th>snowshoe</th>\n",
       "      <th>touringbicycle</th>\n",
       "      <th>unicycle</th>\n",
       "    </tr>\n",
       "    <tr>\n",
       "      <th>country</th>\n",
       "      <th></th>\n",
       "      <th></th>\n",
       "      <th></th>\n",
       "      <th></th>\n",
       "      <th></th>\n",
       "      <th></th>\n",
       "      <th></th>\n",
       "      <th></th>\n",
       "      <th></th>\n",
       "      <th></th>\n",
       "      <th></th>\n",
       "      <th></th>\n",
       "      <th></th>\n",
       "      <th></th>\n",
       "      <th></th>\n",
       "      <th></th>\n",
       "      <th></th>\n",
       "      <th></th>\n",
       "      <th></th>\n",
       "      <th></th>\n",
       "      <th></th>\n",
       "      <th></th>\n",
       "    </tr>\n",
       "  </thead>\n",
       "  <tbody>\n",
       "    <tr>\n",
       "      <th>Austria</th>\n",
       "      <td>0.00</td>\n",
       "      <td>0.0</td>\n",
       "      <td>0.0</td>\n",
       "      <td>0.47</td>\n",
       "      <td>0.03</td>\n",
       "      <td>0.02</td>\n",
       "      <td>0.0</td>\n",
       "      <td>0.16</td>\n",
       "      <td>0.01</td>\n",
       "      <td>0.00</td>\n",
       "      <td>0.0</td>\n",
       "      <td>0.01</td>\n",
       "      <td>0.01</td>\n",
       "      <td>0.05</td>\n",
       "      <td>0.00</td>\n",
       "      <td>0.01</td>\n",
       "      <td>0.01</td>\n",
       "      <td>0.0</td>\n",
       "      <td>0.0</td>\n",
       "      <td>0.0</td>\n",
       "      <td>0.20</td>\n",
       "      <td>0.0</td>\n",
       "    </tr>\n",
       "    <tr>\n",
       "      <th>France</th>\n",
       "      <td>0.00</td>\n",
       "      <td>0.0</td>\n",
       "      <td>0.0</td>\n",
       "      <td>0.41</td>\n",
       "      <td>0.04</td>\n",
       "      <td>0.00</td>\n",
       "      <td>0.0</td>\n",
       "      <td>0.09</td>\n",
       "      <td>0.00</td>\n",
       "      <td>0.01</td>\n",
       "      <td>0.0</td>\n",
       "      <td>0.00</td>\n",
       "      <td>0.00</td>\n",
       "      <td>0.10</td>\n",
       "      <td>0.00</td>\n",
       "      <td>0.00</td>\n",
       "      <td>0.00</td>\n",
       "      <td>0.0</td>\n",
       "      <td>0.0</td>\n",
       "      <td>0.0</td>\n",
       "      <td>0.32</td>\n",
       "      <td>0.0</td>\n",
       "    </tr>\n",
       "    <tr>\n",
       "      <th>Germany</th>\n",
       "      <td>0.00</td>\n",
       "      <td>0.0</td>\n",
       "      <td>0.0</td>\n",
       "      <td>0.32</td>\n",
       "      <td>0.04</td>\n",
       "      <td>0.00</td>\n",
       "      <td>0.0</td>\n",
       "      <td>0.16</td>\n",
       "      <td>0.00</td>\n",
       "      <td>0.01</td>\n",
       "      <td>0.0</td>\n",
       "      <td>0.01</td>\n",
       "      <td>0.01</td>\n",
       "      <td>0.08</td>\n",
       "      <td>0.00</td>\n",
       "      <td>0.00</td>\n",
       "      <td>0.00</td>\n",
       "      <td>0.0</td>\n",
       "      <td>0.0</td>\n",
       "      <td>0.0</td>\n",
       "      <td>0.37</td>\n",
       "      <td>0.0</td>\n",
       "    </tr>\n",
       "    <tr>\n",
       "      <th>Italy</th>\n",
       "      <td>0.00</td>\n",
       "      <td>0.0</td>\n",
       "      <td>0.0</td>\n",
       "      <td>0.48</td>\n",
       "      <td>0.02</td>\n",
       "      <td>0.02</td>\n",
       "      <td>0.0</td>\n",
       "      <td>0.18</td>\n",
       "      <td>0.01</td>\n",
       "      <td>0.00</td>\n",
       "      <td>0.0</td>\n",
       "      <td>0.00</td>\n",
       "      <td>0.01</td>\n",
       "      <td>0.08</td>\n",
       "      <td>0.00</td>\n",
       "      <td>0.01</td>\n",
       "      <td>0.00</td>\n",
       "      <td>0.0</td>\n",
       "      <td>0.0</td>\n",
       "      <td>0.0</td>\n",
       "      <td>0.18</td>\n",
       "      <td>0.0</td>\n",
       "    </tr>\n",
       "    <tr>\n",
       "      <th>Other</th>\n",
       "      <td>0.00</td>\n",
       "      <td>0.0</td>\n",
       "      <td>0.0</td>\n",
       "      <td>0.44</td>\n",
       "      <td>0.04</td>\n",
       "      <td>0.00</td>\n",
       "      <td>0.0</td>\n",
       "      <td>0.08</td>\n",
       "      <td>0.00</td>\n",
       "      <td>0.00</td>\n",
       "      <td>0.0</td>\n",
       "      <td>0.00</td>\n",
       "      <td>0.01</td>\n",
       "      <td>0.09</td>\n",
       "      <td>0.00</td>\n",
       "      <td>0.00</td>\n",
       "      <td>0.00</td>\n",
       "      <td>0.0</td>\n",
       "      <td>0.0</td>\n",
       "      <td>0.0</td>\n",
       "      <td>0.32</td>\n",
       "      <td>0.0</td>\n",
       "    </tr>\n",
       "    <tr>\n",
       "      <th>Spain</th>\n",
       "      <td>0.00</td>\n",
       "      <td>0.0</td>\n",
       "      <td>0.0</td>\n",
       "      <td>0.66</td>\n",
       "      <td>0.02</td>\n",
       "      <td>0.01</td>\n",
       "      <td>0.0</td>\n",
       "      <td>0.06</td>\n",
       "      <td>0.00</td>\n",
       "      <td>0.00</td>\n",
       "      <td>0.0</td>\n",
       "      <td>0.00</td>\n",
       "      <td>0.01</td>\n",
       "      <td>0.13</td>\n",
       "      <td>0.00</td>\n",
       "      <td>0.00</td>\n",
       "      <td>0.00</td>\n",
       "      <td>0.0</td>\n",
       "      <td>0.0</td>\n",
       "      <td>0.0</td>\n",
       "      <td>0.10</td>\n",
       "      <td>0.0</td>\n",
       "    </tr>\n",
       "    <tr>\n",
       "      <th>Switzerland</th>\n",
       "      <td>0.00</td>\n",
       "      <td>0.0</td>\n",
       "      <td>0.0</td>\n",
       "      <td>0.37</td>\n",
       "      <td>0.04</td>\n",
       "      <td>0.01</td>\n",
       "      <td>0.0</td>\n",
       "      <td>0.20</td>\n",
       "      <td>0.01</td>\n",
       "      <td>0.01</td>\n",
       "      <td>0.0</td>\n",
       "      <td>0.00</td>\n",
       "      <td>0.01</td>\n",
       "      <td>0.09</td>\n",
       "      <td>0.00</td>\n",
       "      <td>0.00</td>\n",
       "      <td>0.01</td>\n",
       "      <td>0.0</td>\n",
       "      <td>0.0</td>\n",
       "      <td>0.0</td>\n",
       "      <td>0.24</td>\n",
       "      <td>0.0</td>\n",
       "    </tr>\n",
       "    <tr>\n",
       "      <th>United Kingdom of Great Britain and Northern Ireland</th>\n",
       "      <td>0.00</td>\n",
       "      <td>0.0</td>\n",
       "      <td>0.0</td>\n",
       "      <td>0.37</td>\n",
       "      <td>0.04</td>\n",
       "      <td>0.01</td>\n",
       "      <td>0.0</td>\n",
       "      <td>0.07</td>\n",
       "      <td>0.00</td>\n",
       "      <td>0.00</td>\n",
       "      <td>0.0</td>\n",
       "      <td>0.00</td>\n",
       "      <td>0.00</td>\n",
       "      <td>0.12</td>\n",
       "      <td>0.00</td>\n",
       "      <td>0.00</td>\n",
       "      <td>0.00</td>\n",
       "      <td>0.0</td>\n",
       "      <td>0.0</td>\n",
       "      <td>0.0</td>\n",
       "      <td>0.37</td>\n",
       "      <td>0.0</td>\n",
       "    </tr>\n",
       "    <tr>\n",
       "      <th>United States of America</th>\n",
       "      <td>0.01</td>\n",
       "      <td>0.0</td>\n",
       "      <td>0.0</td>\n",
       "      <td>0.34</td>\n",
       "      <td>0.05</td>\n",
       "      <td>0.00</td>\n",
       "      <td>0.0</td>\n",
       "      <td>0.05</td>\n",
       "      <td>0.00</td>\n",
       "      <td>0.00</td>\n",
       "      <td>0.0</td>\n",
       "      <td>0.00</td>\n",
       "      <td>0.00</td>\n",
       "      <td>0.15</td>\n",
       "      <td>0.01</td>\n",
       "      <td>0.00</td>\n",
       "      <td>0.00</td>\n",
       "      <td>0.0</td>\n",
       "      <td>0.0</td>\n",
       "      <td>0.0</td>\n",
       "      <td>0.38</td>\n",
       "      <td>0.0</td>\n",
       "    </tr>\n",
       "  </tbody>\n",
       "</table>\n",
       "</div>"
      ],
      "text/plain": [
       "sport                                               citybike  climbing  \\\n",
       "country                                                                  \n",
       "Austria                                                 0.00       0.0   \n",
       "France                                                  0.00       0.0   \n",
       "Germany                                                 0.00       0.0   \n",
       "Italy                                                   0.00       0.0   \n",
       "Other                                                   0.00       0.0   \n",
       "Spain                                                   0.00       0.0   \n",
       "Switzerland                                             0.00       0.0   \n",
       "United Kingdom of Great Britain and Northern Ir...      0.00       0.0   \n",
       "United States of America                                0.01       0.0   \n",
       "\n",
       "sport                                               downhillbike  hike  \\\n",
       "country                                                                  \n",
       "Austria                                                      0.0  0.47   \n",
       "France                                                       0.0  0.41   \n",
       "Germany                                                      0.0  0.32   \n",
       "Italy                                                        0.0  0.48   \n",
       "Other                                                        0.0  0.44   \n",
       "Spain                                                        0.0  0.66   \n",
       "Switzerland                                                  0.0  0.37   \n",
       "United Kingdom of Great Britain and Northern Ir...           0.0  0.37   \n",
       "United States of America                                     0.0  0.34   \n",
       "\n",
       "sport                                               jogging  mountaineering  \\\n",
       "country                                                                       \n",
       "Austria                                                0.03            0.02   \n",
       "France                                                 0.04            0.00   \n",
       "Germany                                                0.04            0.00   \n",
       "Italy                                                  0.02            0.02   \n",
       "Other                                                  0.04            0.00   \n",
       "Spain                                                  0.02            0.01   \n",
       "Switzerland                                            0.04            0.01   \n",
       "United Kingdom of Great Britain and Northern Ir...     0.04            0.01   \n",
       "United States of America                               0.05            0.00   \n",
       "\n",
       "sport                                               mountaineering_advanced  \\\n",
       "country                                                                       \n",
       "Austria                                                                 0.0   \n",
       "France                                                                  0.0   \n",
       "Germany                                                                 0.0   \n",
       "Italy                                                                   0.0   \n",
       "Other                                                                   0.0   \n",
       "Spain                                                                   0.0   \n",
       "Switzerland                                                             0.0   \n",
       "United Kingdom of Great Britain and Northern Ir...                      0.0   \n",
       "United States of America                                                0.0   \n",
       "\n",
       "sport                                                mtb  mtb_advanced  \\\n",
       "country                                                                  \n",
       "Austria                                             0.16          0.01   \n",
       "France                                              0.09          0.00   \n",
       "Germany                                             0.16          0.00   \n",
       "Italy                                               0.18          0.01   \n",
       "Other                                               0.08          0.00   \n",
       "Spain                                               0.06          0.00   \n",
       "Switzerland                                         0.20          0.01   \n",
       "United Kingdom of Great Britain and Northern Ir...  0.07          0.00   \n",
       "United States of America                            0.05          0.00   \n",
       "\n",
       "sport                                               mtb_easy  nordic  \\\n",
       "country                                                                \n",
       "Austria                                                 0.00     0.0   \n",
       "France                                                  0.01     0.0   \n",
       "Germany                                                 0.01     0.0   \n",
       "Italy                                                   0.00     0.0   \n",
       "Other                                                   0.00     0.0   \n",
       "Spain                                                   0.00     0.0   \n",
       "Switzerland                                             0.01     0.0   \n",
       "United Kingdom of Great Britain and Northern Ir...      0.00     0.0   \n",
       "United States of America                                0.00     0.0   \n",
       "\n",
       "sport                                               nordicwalking  other  \\\n",
       "country                                                                    \n",
       "Austria                                                      0.01   0.01   \n",
       "France                                                       0.00   0.00   \n",
       "Germany                                                      0.01   0.01   \n",
       "Italy                                                        0.00   0.01   \n",
       "Other                                                        0.00   0.01   \n",
       "Spain                                                        0.00   0.01   \n",
       "Switzerland                                                  0.00   0.01   \n",
       "United Kingdom of Great Britain and Northern Ir...           0.00   0.00   \n",
       "United States of America                                     0.00   0.00   \n",
       "\n",
       "sport                                               racebike  skaten  \\\n",
       "country                                                                \n",
       "Austria                                                 0.05    0.00   \n",
       "France                                                  0.10    0.00   \n",
       "Germany                                                 0.08    0.00   \n",
       "Italy                                                   0.08    0.00   \n",
       "Other                                                   0.09    0.00   \n",
       "Spain                                                   0.13    0.00   \n",
       "Switzerland                                             0.09    0.00   \n",
       "United Kingdom of Great Britain and Northern Ir...      0.12    0.00   \n",
       "United States of America                                0.15    0.01   \n",
       "\n",
       "sport                                               skialpin  skitour  sled  \\\n",
       "country                                                                       \n",
       "Austria                                                 0.01     0.01   0.0   \n",
       "France                                                  0.00     0.00   0.0   \n",
       "Germany                                                 0.00     0.00   0.0   \n",
       "Italy                                                   0.01     0.00   0.0   \n",
       "Other                                                   0.00     0.00   0.0   \n",
       "Spain                                                   0.00     0.00   0.0   \n",
       "Switzerland                                             0.00     0.01   0.0   \n",
       "United Kingdom of Great Britain and Northern Ir...      0.00     0.00   0.0   \n",
       "United States of America                                0.00     0.00   0.0   \n",
       "\n",
       "sport                                               snowboard  snowshoe  \\\n",
       "country                                                                   \n",
       "Austria                                                   0.0       0.0   \n",
       "France                                                    0.0       0.0   \n",
       "Germany                                                   0.0       0.0   \n",
       "Italy                                                     0.0       0.0   \n",
       "Other                                                     0.0       0.0   \n",
       "Spain                                                     0.0       0.0   \n",
       "Switzerland                                               0.0       0.0   \n",
       "United Kingdom of Great Britain and Northern Ir...        0.0       0.0   \n",
       "United States of America                                  0.0       0.0   \n",
       "\n",
       "sport                                               touringbicycle  unicycle  \n",
       "country                                                                       \n",
       "Austria                                                       0.20       0.0  \n",
       "France                                                        0.32       0.0  \n",
       "Germany                                                       0.37       0.0  \n",
       "Italy                                                         0.18       0.0  \n",
       "Other                                                         0.32       0.0  \n",
       "Spain                                                         0.10       0.0  \n",
       "Switzerland                                                   0.24       0.0  \n",
       "United Kingdom of Great Britain and Northern Ir...            0.37       0.0  \n",
       "United States of America                                      0.38       0.0  "
      ]
     },
     "execution_count": 43,
     "metadata": {},
     "output_type": "execute_result"
    }
   ],
   "source": [
    "data.groupby(['country','sport']).size().unstack(fill_value=0).transform(lambda x: x/x.sum(),axis=1).round(2)"
   ]
  },
  {
   "cell_type": "markdown",
   "metadata": {},
   "source": [
    "### Step five: Analyse time dimension\n",
    "\n",
    "Understand how the number of tours recorded changed over time"
   ]
  },
  {
   "cell_type": "markdown",
   "metadata": {},
   "source": [
    "Checking the data range and missing dates"
   ]
  },
  {
   "cell_type": "code",
   "execution_count": 44,
   "metadata": {},
   "outputs": [
    {
     "name": "stdout",
     "output_type": "stream",
     "text": [
      "2010-04-16 2017-09-13\n"
     ]
    }
   ],
   "source": [
    "data['day']=data.timestamp.dt.date\n",
    "start_date=data.day.sort_values().values[0]\n",
    "end_date=data.day.sort_values().values[-1]\n",
    "print (start_date,end_date)"
   ]
  },
  {
   "cell_type": "code",
   "execution_count": 45,
   "metadata": {},
   "outputs": [
    {
     "data": {
      "text/plain": [
       "97"
      ]
     },
     "execution_count": 45,
     "metadata": {},
     "output_type": "execute_result"
    }
   ],
   "source": [
    "days_range = data.day.value_counts()\n",
    "days_range.index = pd.DatetimeIndex(days_range.index)\n",
    "days_range = days_range.reindex(pd.date_range(start_date,end_date), fill_value=0)\n",
    "days_range.sort_index()\n",
    "missing_dates=days_range[days_range==0]\n",
    "len(missing_dates)"
   ]
  },
  {
   "cell_type": "code",
   "execution_count": 46,
   "metadata": {
    "scrolled": true
   },
   "outputs": [
    {
     "data": {
      "text/html": [
       "<div>\n",
       "<style scoped>\n",
       "    .dataframe tbody tr th:only-of-type {\n",
       "        vertical-align: middle;\n",
       "    }\n",
       "\n",
       "    .dataframe tbody tr th {\n",
       "        vertical-align: top;\n",
       "    }\n",
       "\n",
       "    .dataframe thead tr th {\n",
       "        text-align: left;\n",
       "    }\n",
       "</style>\n",
       "<table border=\"1\" class=\"dataframe\">\n",
       "  <thead>\n",
       "    <tr>\n",
       "      <th>date</th>\n",
       "      <th colspan=\"8\" halign=\"left\">2010</th>\n",
       "      <th colspan=\"12\" halign=\"left\">2011</th>\n",
       "      <th>2012</th>\n",
       "      <th>2017</th>\n",
       "    </tr>\n",
       "    <tr>\n",
       "      <th>date</th>\n",
       "      <th>Aug</th>\n",
       "      <th>Dec</th>\n",
       "      <th>Jul</th>\n",
       "      <th>Jun</th>\n",
       "      <th>May</th>\n",
       "      <th>Nov</th>\n",
       "      <th>Oct</th>\n",
       "      <th>Sep</th>\n",
       "      <th>Apr</th>\n",
       "      <th>Aug</th>\n",
       "      <th>Dec</th>\n",
       "      <th>Feb</th>\n",
       "      <th>Jan</th>\n",
       "      <th>Jul</th>\n",
       "      <th>Jun</th>\n",
       "      <th>Mar</th>\n",
       "      <th>May</th>\n",
       "      <th>Nov</th>\n",
       "      <th>Oct</th>\n",
       "      <th>Sep</th>\n",
       "      <th>Jan</th>\n",
       "      <th>May</th>\n",
       "    </tr>\n",
       "  </thead>\n",
       "  <tbody>\n",
       "    <tr>\n",
       "      <th>date</th>\n",
       "      <td>4</td>\n",
       "      <td>18</td>\n",
       "      <td>2</td>\n",
       "      <td>1</td>\n",
       "      <td>5</td>\n",
       "      <td>19</td>\n",
       "      <td>9</td>\n",
       "      <td>5</td>\n",
       "      <td>1</td>\n",
       "      <td>1</td>\n",
       "      <td>4</td>\n",
       "      <td>4</td>\n",
       "      <td>4</td>\n",
       "      <td>1</td>\n",
       "      <td>1</td>\n",
       "      <td>5</td>\n",
       "      <td>1</td>\n",
       "      <td>2</td>\n",
       "      <td>2</td>\n",
       "      <td>6</td>\n",
       "      <td>1</td>\n",
       "      <td>1</td>\n",
       "    </tr>\n",
       "  </tbody>\n",
       "</table>\n",
       "</div>"
      ],
      "text/plain": [
       "date 2010                             2011                                  \\\n",
       "date  Aug Dec Jul Jun May Nov Oct Sep  Apr Aug Dec Feb Jan Jul Jun Mar May   \n",
       "date    4  18   2   1   5  19   9   5    1   1   4   4   4   1   1   5   1   \n",
       "\n",
       "date             2012 2017  \n",
       "date Nov Oct Sep  Jan  May  \n",
       "date   2   2   6    1    1  "
      ]
     },
     "execution_count": 46,
     "metadata": {},
     "output_type": "execute_result"
    }
   ],
   "source": [
    "missing_dates=missing_dates.reset_index()\n",
    "missing_dates=missing_dates['index']\n",
    "missing_dates=missing_dates.to_frame()\n",
    "missing_dates.columns=['date']\n",
    "missing_dates.groupby([missing_dates.date.dt.year, missing_dates.date.dt.month.apply(lambda x: calendar.month_abbr[x])]).agg('count').T"
   ]
  },
  {
   "cell_type": "markdown",
   "metadata": {},
   "source": [
    "Table above shows that most of the days without any tours were in 2010-2012 with the addition of one day in 2017"
   ]
  },
  {
   "cell_type": "markdown",
   "metadata": {},
   "source": [
    "Vizualize how number of tours recorded changed over time"
   ]
  },
  {
   "cell_type": "code",
   "execution_count": 47,
   "metadata": {
    "scrolled": false
   },
   "outputs": [
    {
     "data": {
      "image/png": "[encoded data removed]",
      "text/plain": [
       "<Figure size 1440x720 with 1 Axes>"
      ]
     },
     "metadata": {},
     "output_type": "display_data"
    }
   ],
   "source": [
    "plt.figure(figsize=(20,10))\n",
    "days_range.plot(c='g')\n",
    "plt.tick_params(axis='both', which='major', labelsize=12)\n",
    "plt.tick_params(axis='both', which='minor', labelsize=12)\n",
    "plt.title('Number of tours recorded over time', loc=\"left\",fontsize=20)\n",
    "plt.ylabel(\"Number of tours\",fontsize=16)\n",
    "plt.xlabel(\"Period\",fontsize=16)\n",
    "plt.show()"
   ]
  },
  {
   "cell_type": "markdown",
   "metadata": {},
   "source": [
    "Graph above shows that number of tours recorded daily started to grow in 2012 with a boost in 2016. Seasonality is also easliy observed - it is potentially due to that most of the tours are captures in Europe (78% in Germany), so a peak in summer is self-explanatory."
   ]
  },
  {
   "cell_type": "code",
   "execution_count": 48,
   "metadata": {},
   "outputs": [],
   "source": [
    "data.drop('day',axis=1,inplace=True)"
   ]
  },
  {
   "cell_type": "markdown",
   "metadata": {},
   "source": [
    "### Step six: Analyse retention rates"
   ]
  },
  {
   "cell_type": "markdown",
   "metadata": {},
   "source": [
    "Assumption is that the user is from the country where he/she has the most of their trips captured. For this an auxiliary frame user_countries was created."
   ]
  },
  {
   "cell_type": "code",
   "execution_count": 50,
   "metadata": {},
   "outputs": [
    {
     "data": {
      "text/plain": [
       "array(['Germany', 'Switzerland', 'Other', 'Austria', 'Italy', 'France',\n",
       "       'United Kingdom of Great Britain and Northern Ireland',\n",
       "       'United States of America', 'Spain'], dtype=object)"
      ]
     },
     "execution_count": 50,
     "metadata": {},
     "output_type": "execute_result"
    }
   ],
   "source": [
    "user_countries.country[~user_countries.country.isin(keep_countries)]='Other'\n",
    "user_countries.country.unique()"
   ]
  },
  {
   "cell_type": "code",
   "execution_count": 51,
   "metadata": {},
   "outputs": [],
   "source": [
    "keys=user_countries.user\n",
    "values=user_countries.country\n",
    "dictionary_country = dict(zip(keys, values))"
   ]
  },
  {
   "cell_type": "code",
   "execution_count": 52,
   "metadata": {},
   "outputs": [],
   "source": [
    "data['user_country']=data.user.map(lambda x: dictionary_country.get(x,x))"
   ]
  },
  {
   "cell_type": "code",
   "execution_count": 53,
   "metadata": {},
   "outputs": [
    {
     "name": "stdout",
     "output_type": "stream",
     "text": [
      "74792 tours were recorded in different country than the assumed home country of the user. The ratio to all tours is: 0.11159986869199319\n"
     ]
    }
   ],
   "source": [
    "print (str(len(data[data.country!=data.user_country]))+' tours were recorded in different country than the assumed home country of the user. The ratio to all tours is: '\n",
    "       +str(len(data[data.country!=data.user_country])/len(data)))"
   ]
  },
  {
   "cell_type": "markdown",
   "metadata": {},
   "source": [
    "Create a period column - since data is from 2010 till 2017 it would be best to split by quarters and look at 30 different periods."
   ]
  },
  {
   "cell_type": "code",
   "execution_count": 54,
   "metadata": {
    "scrolled": true
   },
   "outputs": [],
   "source": [
    "data['period']=data.timestamp.apply(lambda x: str(x.year)+'-'+'Q'+str(x.quarter))"
   ]
  },
  {
   "cell_type": "markdown",
   "metadata": {},
   "source": [
    "Create an auxiliary function that counts the cohort period number for each cohort (based on hierarchical index)"
   ]
  },
  {
   "cell_type": "code",
   "execution_count": 55,
   "metadata": {},
   "outputs": [],
   "source": [
    "def cohort_period(df):\n",
    "    df['cohort_period'] = np.arange(len(df)) + 1\n",
    "    return df"
   ]
  },
  {
   "cell_type": "markdown",
   "metadata": {},
   "source": [
    "Run the analysis"
   ]
  },
  {
   "cell_type": "code",
   "execution_count": 56,
   "metadata": {},
   "outputs": [],
   "source": [
    "for c in user_countries.country.unique():\n",
    "    #Copy original dataset to start each time from same source.\n",
    "    df=data.copy()\n",
    "    #Prepare data by limiting it to one country and adding a column with cohort (join date -> quarter) for each user.\n",
    "    df=df[data.user_country==c]\n",
    "    df.set_index(['user'],inplace=True)\n",
    "    df['cohort']=df.groupby(level=0)['timestamp'].min().apply(lambda x: str(x.year)+'-'+'Q'+str(x.quarter))\n",
    "    df.reset_index(inplace=True)\n",
    "    #Create a cohorts frame of aggregated number of active users eqch quarter after starting quarter of the cohort.\n",
    "    cohorts=df.groupby(['cohort', 'period']).agg({'user': pd.Series.nunique})\n",
    "    #Use a function that adds a column counting number of periods any users were active from starting quarter.\n",
    "    cohorts = cohorts.groupby(level=0).apply(cohort_period)\n",
    "    cohorts.reset_index(inplace=True)\n",
    "    #Reindex the frame to then capture the starting count of users for each cohort.\n",
    "    cohorts.set_index(['cohort','cohort_period'], inplace=True)\n",
    "    cohort_group_size = cohorts['user'].groupby(level=0).first()\n",
    "    #Unstack the frame, keep the absolute values. Add column with total count of users for each cohort period.\n",
    "    unstacked = cohorts['user'].unstack(0)\n",
    "    weighted=unstacked.reset_index()\n",
    "    weighted['users_total'] = weighted.drop('cohort_period', axis=1).sum(axis=1)\n",
    "    #Create empty auxilliary data series, iterate over user_retention columns (cohort quarters) and populate the series\n",
    "    #with average retention percentage for each row. Add the series as a column to weighted frame.\n",
    "    ret_pct=pd.DataFrame(columns=['pct'])\n",
    "    periods=list(unstacked.columns)\n",
    "    for e in weighted.cohort_period:\n",
    "        if e==1:\n",
    "            ret_pct=ret_pct.append({'pct':1.0},ignore_index=True)\n",
    "        else:\n",
    "            ret_pct=ret_pct.append({'pct':(weighted[:e][periods].sum(axis=1)[-1:].values/weighted[:e][periods].sum(axis=1)[0])[0]},ignore_index=True)\n",
    "        periods.pop()\n",
    "    weighted['ret_pct'] = ret_pct['pct'].astype(float)\n",
    "    #Take cohort_period and ret_pct columns from the frame, plot them and save plots as pdf.\n",
    "    weighted_avg = weighted.filter(items=['cohort_period', 'ret_pct'])\n",
    "    plt.figure(figsize=(20, 10))\n",
    "    plt.fill_between( x=weighted_avg.cohort_period, y1=weighted_avg.ret_pct, color=\"green\", alpha=0.3)\n",
    "    plt.plot(x=weighted_avg.cohort_period, y=weighted_avg.ret_pct, color=\"green\")\n",
    "    for a,b in zip(weighted_avg.cohort_period, weighted_avg.ret_pct):\n",
    "        plt.text(a, b, str(round(b,2)))\n",
    "\n",
    "    plt.tick_params(axis='both', which='major', labelsize=14)\n",
    "    plt.tick_params(axis='both', which='minor', labelsize=14)\n",
    "    plt.title(c, loc=\"left\",fontsize=20)\n",
    "    plt.ylabel(\"Retention rate\",fontsize=16)\n",
    "    plt.xlabel(\"Period\",fontsize=16)\n",
    "    plt.savefig(c+'_retention_rate.pdf')\n",
    "    plt.close()\n",
    "    #Plot a seaborn heatmap with absolute retention rates and save to pdf.\n",
    "    plt.figure(figsize=(20, 10))\n",
    "    plt.title('Cohorts: User Retention - Absolute')\n",
    "    sns.heatmap(unstacked.T, mask=unstacked.T.isnull(), annot=True,fmt='g',cmap=\"Greens\")\n",
    "    plt.savefig(c+'_abs_heatmap.pdf')\n",
    "    plt.close()\n",
    "    #Unstack the frame, fill NaN with 0 and divide each number of users by the cohort starting count.\n",
    "    user_retention=cohorts['user'].unstack(0).divide(cohort_group_size, axis=1)\n",
    "    #Plot a seaborn heatmap with relative retention rates and save to pdf.\n",
    "    plt.figure(figsize=(20, 10))\n",
    "    plt.title('Cohorts: User Retention - %')\n",
    "    sns.heatmap(user_retention.T, mask=user_retention.T.isnull(), annot=True, fmt='.0%',cmap=\"Greens\")\n",
    "    plt.savefig(c+'_rel_heatmap.pdf')\n",
    "    plt.close()"
   ]
  }
 ],
 "metadata": {
  "kernelspec": {
   "display_name": "Python 3",
   "language": "python",
   "name": "python3"
  },
  "language_info": {
   "codemirror_mode": {
    "name": "ipython",
    "version": 3
   },
   "file_extension": ".py",
   "mimetype": "text/x-python",
   "name": "python",
   "nbconvert_exporter": "python",
   "pygments_lexer": "ipython3",
   "version": "3.6.4"
  }
 },
 "nbformat": 4,
 "nbformat_minor": 2
}
